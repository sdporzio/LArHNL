{
 "cells": [
  {
   "cell_type": "code",
   "execution_count": 1,
   "metadata": {
    "collapsed": false
   },
   "outputs": [],
   "source": [
    "%matplotlib inline\n",
    "import os, sys, json, pickle, ROOT\n",
    "import numpy as np\n",
    "import pandas as pd\n",
    "import root_numpy as rnp\n",
    "import matplotlib.pyplot as plt\n",
    "from collections import OrderedDict as OD\n",
    "from ipywidgets import interact, interactive, fixed, widgets\n",
    "from NotebookUtils.ProgressBar import LogProgress as LP\n",
    "plt.rcParams['font.family']='serif'\n",
    "plt.rcParams['font.weight']='light'\n",
    "plt.rcParams['font.size']=14\n",
    "figsize = (12,8)\n",
    "\n",
    "import EventRates as ER"
   ]
  },
  {
   "cell_type": "code",
   "execution_count": 4,
   "metadata": {
    "collapsed": false
   },
   "outputs": [
    {
     "ename": "AttributeError",
     "evalue": "'module' object has no attribute 'Length_Nu2MuPi'",
     "output_type": "error",
     "traceback": [
      "\u001b[0;31m---------------------------------------------------------------------------\u001b[0m",
      "\u001b[0;31mAttributeError\u001b[0m                            Traceback (most recent call last)",
      "\u001b[0;32m<ipython-input-4-324133525157>\u001b[0m in \u001b[0;36m<module>\u001b[0;34m()\u001b[0m\n\u001b[1;32m     14\u001b[0m \u001b[0;32mfor\u001b[0m \u001b[0mi\u001b[0m\u001b[0;34m,\u001b[0m\u001b[0mtheta\u001b[0m \u001b[0;32min\u001b[0m \u001b[0menumerate\u001b[0m\u001b[0;34m(\u001b[0m\u001b[0mLP\u001b[0m\u001b[0;34m(\u001b[0m\u001b[0mthetaRange\u001b[0m\u001b[0;34m)\u001b[0m\u001b[0;34m)\u001b[0m\u001b[0;34m:\u001b[0m\u001b[0;34m\u001b[0m\u001b[0m\n\u001b[1;32m     15\u001b[0m     \u001b[0;32mfor\u001b[0m \u001b[0mj\u001b[0m\u001b[0;34m,\u001b[0m\u001b[0mmass\u001b[0m \u001b[0;32min\u001b[0m \u001b[0menumerate\u001b[0m\u001b[0;34m(\u001b[0m\u001b[0mmassRange\u001b[0m\u001b[0;34m)\u001b[0m\u001b[0;34m:\u001b[0m\u001b[0;34m\u001b[0m\u001b[0m\n\u001b[0;32m---> 16\u001b[0;31m         \u001b[0mevSBND\u001b[0m\u001b[0;34m,\u001b[0m \u001b[0mevUBOONE\u001b[0m\u001b[0;34m,\u001b[0m \u001b[0mevICARUS\u001b[0m \u001b[0;34m=\u001b[0m \u001b[0mER\u001b[0m\u001b[0;34m.\u001b[0m\u001b[0mEventRate_Nu2MuPi\u001b[0m\u001b[0;34m(\u001b[0m\u001b[0mmass\u001b[0m\u001b[0;34m,\u001b[0m\u001b[0mtheta\u001b[0m\u001b[0;34m,\u001b[0m\u001b[0mPOT\u001b[0m\u001b[0;34m)\u001b[0m\u001b[0;34m\u001b[0m\u001b[0m\n\u001b[0m\u001b[1;32m     17\u001b[0m         \u001b[0meventMatSBND\u001b[0m\u001b[0;34m[\u001b[0m\u001b[0mi\u001b[0m\u001b[0;34m,\u001b[0m\u001b[0mj\u001b[0m\u001b[0;34m]\u001b[0m \u001b[0;34m=\u001b[0m \u001b[0mevSBND\u001b[0m\u001b[0;34m\u001b[0m\u001b[0m\n\u001b[1;32m     18\u001b[0m         \u001b[0meventMatUBOONE\u001b[0m\u001b[0;34m[\u001b[0m\u001b[0mi\u001b[0m\u001b[0;34m,\u001b[0m\u001b[0mj\u001b[0m\u001b[0;34m]\u001b[0m \u001b[0;34m=\u001b[0m \u001b[0mevUBOONE\u001b[0m\u001b[0;34m\u001b[0m\u001b[0m\n",
      "\u001b[0;32m/Users/sdporzio/HSN/EventCalculator/EventRates.py\u001b[0m in \u001b[0;36mEventRate_Nu2MuPi\u001b[0;34m(nuMass, nuTheta2, POT)\u001b[0m\n\u001b[1;32m     37\u001b[0m         \u001b[0;31m# Decay length gets broken if it gets unphysical values (e.g. total energy less than mass)\u001b[0m\u001b[0;34m\u001b[0m\u001b[0;34m\u001b[0m\u001b[0m\n\u001b[1;32m     38\u001b[0m         \u001b[0;32mif\u001b[0m \u001b[0mnuMass\u001b[0m\u001b[0;34m<=\u001b[0m\u001b[0mpiMass\u001b[0m\u001b[0;34m+\u001b[0m\u001b[0mmuMass\u001b[0m \u001b[0;32mor\u001b[0m \u001b[0mnuMass\u001b[0m\u001b[0;34m+\u001b[0m\u001b[0mmuMass\u001b[0m\u001b[0;34m>=\u001b[0m\u001b[0mkMass\u001b[0m \u001b[0;32mor\u001b[0m \u001b[0mflux\u001b[0m\u001b[0;34m[\u001b[0m\u001b[0;34m'Energy'\u001b[0m\u001b[0;34m]\u001b[0m\u001b[0;34m[\u001b[0m\u001b[0mi\u001b[0m\u001b[0;34m]\u001b[0m\u001b[0;34m<=\u001b[0m\u001b[0mnuMass\u001b[0m\u001b[0;34m:\u001b[0m \u001b[0mcalcRate\u001b[0m \u001b[0;34m=\u001b[0m \u001b[0;36m0\u001b[0m\u001b[0;34m\u001b[0m\u001b[0m\n\u001b[0;32m---> 39\u001b[0;31m         \u001b[0;32melse\u001b[0m\u001b[0;34m:\u001b[0m \u001b[0mcalcRate\u001b[0m \u001b[0;34m=\u001b[0m \u001b[0mPOT\u001b[0m\u001b[0;34m*\u001b[0m\u001b[0mnuTheta2\u001b[0m\u001b[0;34m*\u001b[0m\u001b[0mflux\u001b[0m\u001b[0;34m[\u001b[0m\u001b[0;34m'Flux'\u001b[0m\u001b[0;34m]\u001b[0m\u001b[0;34m[\u001b[0m\u001b[0mi\u001b[0m\u001b[0;34m]\u001b[0m\u001b[0;34m/\u001b[0m\u001b[0mDW\u001b[0m\u001b[0;34m.\u001b[0m\u001b[0mLength_Nu2MuPi\u001b[0m\u001b[0;34m(\u001b[0m\u001b[0mnuMass\u001b[0m\u001b[0;34m,\u001b[0m\u001b[0mnuTheta2\u001b[0m\u001b[0;34m,\u001b[0m\u001b[0mflux\u001b[0m\u001b[0;34m[\u001b[0m\u001b[0;34m'Energy'\u001b[0m\u001b[0;34m]\u001b[0m\u001b[0;34m[\u001b[0m\u001b[0mi\u001b[0m\u001b[0;34m]\u001b[0m\u001b[0;34m)\u001b[0m\u001b[0;34m\u001b[0m\u001b[0m\n\u001b[0m\u001b[1;32m     40\u001b[0m         \u001b[0mrate\u001b[0m\u001b[0;34m[\u001b[0m\u001b[0;36m0\u001b[0m\u001b[0;34m]\u001b[0m\u001b[0;34m.\u001b[0m\u001b[0mappend\u001b[0m\u001b[0;34m(\u001b[0m\u001b[0mflux\u001b[0m\u001b[0;34m[\u001b[0m\u001b[0;34m'Energy'\u001b[0m\u001b[0;34m]\u001b[0m\u001b[0;34m[\u001b[0m\u001b[0mi\u001b[0m\u001b[0;34m]\u001b[0m\u001b[0;34m)\u001b[0m\u001b[0;34m\u001b[0m\u001b[0m\n\u001b[1;32m     41\u001b[0m         \u001b[0mrate\u001b[0m\u001b[0;34m[\u001b[0m\u001b[0;36m1\u001b[0m\u001b[0;34m]\u001b[0m\u001b[0;34m.\u001b[0m\u001b[0mappend\u001b[0m\u001b[0;34m(\u001b[0m\u001b[0mcalcRate\u001b[0m\u001b[0;34m)\u001b[0m\u001b[0;34m\u001b[0m\u001b[0m\n",
      "\u001b[0;31mAttributeError\u001b[0m: 'module' object has no attribute 'Length_Nu2MuPi'"
     ]
    }
   ],
   "source": [
    "reload(ER)\n",
    "# Settings\n",
    "POT = 6e20 # protons on target, three years livetime [uBooNE proposal]\n",
    "nBins = 100\n",
    "thetaRange = np.logspace(-12,-4,nBins) \n",
    "massRange = np.linspace(0,600,nBins)\n",
    "\n",
    "# Initialize event matrix\n",
    "eventMatSBND = np.empty((nBins, nBins))\n",
    "eventMatUBOONE = np.empty((nBins, nBins))\n",
    "eventMatICARUS = np.empty((nBins, nBins))\n",
    "\n",
    "# Fill event matrix\n",
    "for i,theta in enumerate(LP(thetaRange)):\n",
    "    for j,mass in enumerate(massRange):\n",
    "        evSBND, evUBOONE, evICARUS = ER.EventRate_Nu2MuPi(mass,theta,POT)\n",
    "        eventMatSBND[i,j] = evSBND\n",
    "        eventMatUBOONE[i,j] = evUBOONE\n",
    "        eventMatICARUS[i,j] = evICARUS"
   ]
  },
  {
   "cell_type": "code",
   "execution_count": null,
   "metadata": {
    "collapsed": true
   },
   "outputs": [],
   "source": []
  }
 ],
 "metadata": {
  "kernelspec": {
   "display_name": "Python 2",
   "language": "python",
   "name": "python2"
  },
  "language_info": {
   "codemirror_mode": {
    "name": "ipython",
    "version": 2
   },
   "file_extension": ".py",
   "mimetype": "text/x-python",
   "name": "python",
   "nbconvert_exporter": "python",
   "pygments_lexer": "ipython2",
   "version": "2.7.10"
  }
 },
 "nbformat": 4,
 "nbformat_minor": 0
}
